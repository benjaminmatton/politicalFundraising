{
 "cells": [
  {
   "cell_type": "code",
   "execution_count": 1,
   "id": "df999648-27c8-44cf-8b40-977cf65c00eb",
   "metadata": {
    "tags": []
   },
   "outputs": [
    {
     "name": "stdout",
     "output_type": "stream",
     "text": [
      "     CAND_ID              CAND_NAME CAND_ICI  PTY_CD CAND_PTY_AFFILIATION  \\\n",
      "0  H2AK00200  CONSTANT, CHRISTOPHER        C       1                  DEM   \n",
      "1  H2AK01158          PELTOLA, MARY        I       1                  DEM   \n",
      "2  H2AK00226           PALIN, SARAH        O       2                  REP   \n",
      "3  H2AK01083   BEGICH, NICHOLAS III        C       2                  REP   \n",
      "4  H4AK00156       DAHLSTROM, NANCY        C       2                  REP   \n",
      "\n",
      "   TTL_RECEIPTS  TRANS_FROM_AUTH    TTL_DISB  TRANS_TO_AUTH    COH_BOP  ...  \\\n",
      "0          0.00             0.00        0.00           0.00       0.00  ...   \n",
      "1    7541673.55        178500.00  5396920.40           0.00  691260.30  ...   \n",
      "2       3866.49             0.00    50246.07           0.00   46379.58  ...   \n",
      "3    1000590.29         17684.66   869275.72       17659.66   41233.99  ...   \n",
      "4     912308.00        410665.18   594690.92           0.00       0.00  ...   \n",
      "\n",
      "   GEN_ELECTION  GEN_ELECTION_PRECENT  OTHER_POL_CMTE_CONTRIB  \\\n",
      "0           NaN                   NaN                    0.00   \n",
      "1           NaN                   NaN              1104488.20   \n",
      "2           NaN                   NaN                    0.00   \n",
      "3           NaN                   NaN                 7000.00   \n",
      "4           NaN                   NaN               259916.02   \n",
      "\n",
      "   POL_PTY_CONTRIB  CVG_END_DT  INDIV_REFUNDS  CMTE_REFUNDS  election_type  \\\n",
      "0             0.00  06/30/2024           0.00           0.0              H   \n",
      "1          3020.04  07/31/2024       75267.02        2500.0              H   \n",
      "2             0.00  03/31/2023       -9152.50           0.0              H   \n",
      "3             0.00  08/30/2024        2385.00           0.0              H   \n",
      "4             0.00  07/31/2024           0.00           0.0              H   \n",
      "\n",
      "  state  district  \n",
      "0    AK        00  \n",
      "1    AK        01  \n",
      "2    AK        00  \n",
      "3    AK        01  \n",
      "4    AK        00  \n",
      "\n",
      "[5 rows x 33 columns]\n"
     ]
    }
   ],
   "source": [
    "import pandas as pd\n",
    "\n",
    "# Read the file into a DataFrame, specifying the delimiter as '|'\n",
    "df = pd.read_csv('data/weball24.txt', delimiter='|', header=None)\n",
    "\n",
    "df.columns = [\n",
    "    'CAND_ID', 'CAND_NAME', 'CAND_ICI', 'PTY_CD', 'CAND_PTY_AFFILIATION',\n",
    "    'TTL_RECEIPTS', 'TRANS_FROM_AUTH', 'TTL_DISB', 'TRANS_TO_AUTH',\n",
    "    'COH_BOP', 'COH_COP', 'CAND_CONTRIB', 'CAND_LOANS', 'OTHER_LOANS',\n",
    "    'CAND_LOAN_REPAY', 'OTHER_LOAN_REPAY', 'DEBTS_OWED_BY', 'TTL_INDIV_CONTRIB',\n",
    "    'CAND_OFFICE_ST', 'CAND_OFFICE_DISTRICT', 'SPEC_ELECTION', 'PRIM_ELECTION',\n",
    "    'RUN_ELECTION', 'GEN_ELECTION', 'GEN_ELECTION_PRECENT', 'OTHER_POL_CMTE_CONTRIB',\n",
    "    'POL_PTY_CONTRIB', 'CVG_END_DT', 'INDIV_REFUNDS', 'CMTE_REFUNDS'\n",
    "]\n",
    "\n",
    "df['election_type'] = df['CAND_ID'].str[0] #election\n",
    "df['state'] = df['CAND_ID'].str[2:4]  # state is the 3rd and 4th characters\n",
    "df['district'] = df['CAND_ID'].str[4:6]  # district is the 5th and 6th characters (if applicable)\n",
    "\n",
    "# fix double count\n",
    "df['adjusted_receipts'] = df['TTL_RECEIPTS'] - df['TRANS_FROM_AUTH']\n",
    "df['adjusted_disbursements'] = df['TTL_DISB'] - df['TRANS_TO_AUTH']\n",
    "\n",
    "# if trans from and trans to > 0 than likely double count\n",
    "\n",
    "print(df.head())"
   ]
  },
  {
   "cell_type": "code",
   "execution_count": 2,
   "id": "49851766-3a91-4265-aae1-bf0df49e5704",
   "metadata": {},
   "outputs": [
    {
     "name": "stdout",
     "output_type": "stream",
     "text": [
      "   poll_id  pollster_id                   pollster  sponsor_ids  \\\n",
      "0    84925         1554               RMG Research       1054.0   \n",
      "1    84925         1554               RMG Research       1054.0   \n",
      "2    84927         1799        Opinion Diagnostics          NaN   \n",
      "3    84927         1799        Opinion Diagnostics          NaN   \n",
      "4    84815          379  Public Opinion Strategies          NaN   \n",
      "\n",
      "                    sponsors               display_name  pollster_rating_id  \\\n",
      "0  United States Term Limits               RMG Research                 555   \n",
      "1  United States Term Limits               RMG Research                 555   \n",
      "2                        NaN        Opinion Diagnostics                 769   \n",
      "3                        NaN        Opinion Diagnostics                 769   \n",
      "4                        NaN  Public Opinion Strategies                 260   \n",
      "\n",
      "        pollster_rating_name fte_grade             methodology  ...  \\\n",
      "0               RMG Research        B-            Online Panel  ...   \n",
      "1               RMG Research        B-            Online Panel  ...   \n",
      "2        Opinion Diagnostics       NaN  Live Phone/Text-to-Web  ...   \n",
      "3        Opinion Diagnostics       NaN  Live Phone/Text-to-Web  ...   \n",
      "4  Public Opinion Strategies        B+                     NaN  ...   \n",
      "\n",
      "   election_date    stage nationwide_batch ranked_choice_reallocated  \\\n",
      "0        11/5/24  general            False                     False   \n",
      "1        11/5/24  general            False                     False   \n",
      "2        2/13/24  general            False                     False   \n",
      "3        2/13/24  general            False                     False   \n",
      "4        11/5/24  general            False                     False   \n",
      "\n",
      "   ranked_choice_round party        answer  candidate_id  \\\n",
      "0                  NaN   DEM      Bohannan         31128   \n",
      "1                  NaN   REP  Miller-Meeks         31129   \n",
      "2                  NaN   DEM        Suozzi         31130   \n",
      "3                  NaN   REP         Curry         31133   \n",
      "4                  NaN   DEM         Hayes         31123   \n",
      "\n",
      "             candidate_name   pct  \n",
      "0        Christina Bohannan  35.0  \n",
      "1  Mariannette Miller-Meeks  38.0  \n",
      "2             Thomas Suozzi  43.3  \n",
      "3              Kellen Curry  38.9  \n",
      "4              Jahana Hayes  43.0  \n",
      "\n",
      "[5 rows x 44 columns]\n"
     ]
    }
   ],
   "source": [
    "df = pd.read_csv('data/polls/house_polls.csv')\n",
    "\n",
    "# Show the first 5 rows to verify that the file has been read correctly\n",
    "print(df.head())"
   ]
  },
  {
   "cell_type": "code",
   "execution_count": 3,
   "id": "c858c8b3-88cf-450d-b3c7-8d664e5b8584",
   "metadata": {
    "tags": []
   },
   "outputs": [
    {
     "name": "stderr",
     "output_type": "stream",
     "text": [
      "/var/folders/kv/t7dj32kd6hs50xl35fksv5_h0000gn/T/ipykernel_24203/3786953824.py:1: DtypeWarning: Columns (7) have mixed types. Specify dtype option on import or set low_memory=False.\n",
      "  df = pd.read_csv('data/dataverse_files/HOUSE_precinct_general.csv')\n"
     ]
    },
    {
     "name": "stdout",
     "output_type": "stream",
     "text": [
      "                      precinct    office party_detailed party_simplified  \\\n",
      "0  1ST BAPTIST CH IRVINGTON #1  US HOUSE            NaN              NaN   \n",
      "1  1ST BAPTIST CH IRVINGTON #1  US HOUSE            NaN              NaN   \n",
      "2  1ST BAPTIST CH IRVINGTON #1  US HOUSE       DEMOCRAT         DEMOCRAT   \n",
      "3  1ST BAPTIST CH IRVINGTON #1  US HOUSE     REPUBLICAN       REPUBLICAN   \n",
      "4  1ST BAPTIST CH IRVINGTON #2  US HOUSE            NaN              NaN   \n",
      "\n",
      "    mode  votes county_name county_fips jurisdiction_name  jurisdiction_fips  \\\n",
      "0  TOTAL      1      MOBILE        1097            MOBILE             1097.0   \n",
      "1  TOTAL      5      MOBILE        1097            MOBILE             1097.0   \n",
      "2  TOTAL    157      MOBILE        1097            MOBILE             1097.0   \n",
      "3  TOTAL    605      MOBILE        1097            MOBILE             1097.0   \n",
      "4  TOTAL      0      MOBILE        1097            MOBILE             1097.0   \n",
      "\n",
      "   ... stage    state  special writein  state_po state_fips state_cen  \\\n",
      "0  ...   GEN  ALABAMA    False   False        AL          1        63   \n",
      "1  ...   GEN  ALABAMA    False   False        AL          1        63   \n",
      "2  ...   GEN  ALABAMA    False   False        AL          1        63   \n",
      "3  ...   GEN  ALABAMA    False   False        AL          1        63   \n",
      "4  ...   GEN  ALABAMA    False   False        AL          1        63   \n",
      "\n",
      "   state_ic        date readme_check  \n",
      "0        41  2018-11-06        False  \n",
      "1        41  2018-11-06        False  \n",
      "2        41  2018-11-06        False  \n",
      "3        41  2018-11-06        False  \n",
      "4        41  2018-11-06        False  \n",
      "\n",
      "[5 rows x 25 columns]\n"
     ]
    }
   ],
   "source": [
    "df = pd.read_csv('data/dataverse_files/HOUSE_precinct_general.csv', dtype={7: str})\n",
    "\n",
    "# Show the first 5 rows to verify that the file has been read correctly\n",
    "print(df.head())"
   ]
  },
  {
   "cell_type": "code",
   "execution_count": 4,
   "id": "c8862c5f-2816-4a11-8686-41bb4ba11471",
   "metadata": {
    "tags": []
   },
   "outputs": [
    {
     "name": "stdout",
     "output_type": "stream",
     "text": [
      "   year    state state_po  state_fips  state_cen  state_ic     office  \\\n",
      "0  1976  ARIZONA       AZ           4         86        61  US SENATE   \n",
      "1  1976  ARIZONA       AZ           4         86        61  US SENATE   \n",
      "2  1976  ARIZONA       AZ           4         86        61  US SENATE   \n",
      "3  1976  ARIZONA       AZ           4         86        61  US SENATE   \n",
      "4  1976  ARIZONA       AZ           4         86        61  US SENATE   \n",
      "\n",
      "    district stage  special            candidate party_detailed  writein  \\\n",
      "0  statewide   gen    False          SAM STEIGER     REPUBLICAN    False   \n",
      "1  statewide   gen    False  WM. MATHEWS FEIGHAN    INDEPENDENT    False   \n",
      "2  statewide   gen    False     DENNIS DECONCINI       DEMOCRAT    False   \n",
      "3  statewide   gen    False        ALLAN NORWITZ    LIBERTARIAN    False   \n",
      "4  statewide   gen    False            BOB FIELD    INDEPENDENT    False   \n",
      "\n",
      "    mode  candidatevotes  totalvotes  unofficial   version party_simplified  \n",
      "0  total          321236      741210       False  20210114       REPUBLICAN  \n",
      "1  total            1565      741210       False  20210114            OTHER  \n",
      "2  total          400334      741210       False  20210114         DEMOCRAT  \n",
      "3  total            7310      741210       False  20210114      LIBERTARIAN  \n",
      "4  total           10765      741210       False  20210114            OTHER  \n"
     ]
    }
   ],
   "source": [
    "df = pd.read_csv('data/dataverse_files2/1976-2020-senate.csv')\n",
    "\n",
    "# Show the first 5 rows to verify that the file has been read correctly\n",
    "print(df.head())"
   ]
  },
  {
   "cell_type": "code",
   "execution_count": null,
   "id": "5ec2cfe2-0207-4e20-90ce-8db43ba8b431",
   "metadata": {},
   "outputs": [],
   "source": []
  }
 ],
 "metadata": {
  "kernelspec": {
   "display_name": "Python 3 (ipykernel)",
   "language": "python",
   "name": "python3"
  },
  "language_info": {
   "codemirror_mode": {
    "name": "ipython",
    "version": 3
   },
   "file_extension": ".py",
   "mimetype": "text/x-python",
   "name": "python",
   "nbconvert_exporter": "python",
   "pygments_lexer": "ipython3",
   "version": "3.10.1"
  }
 },
 "nbformat": 4,
 "nbformat_minor": 5
}
