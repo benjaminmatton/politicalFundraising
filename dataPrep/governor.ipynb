{
 "cells": [
  {
   "cell_type": "code",
   "execution_count": null,
   "id": "d7572896",
   "metadata": {},
   "outputs": [],
   "source": [
    "total_receipts = 7557041.91\n",
    "name = \"Ayotte, Kelly\"\n",
    "\n",
    "receipts = 5799110.78\n",
    "name = \"Craig, Joyce\"\n",
    "\n",
    "\n",
    "\n"
   ]
  }
 ],
 "metadata": {
  "kernelspec": {
   "display_name": "Python 3 (ipykernel)",
   "language": "python",
   "name": "python3"
  },
  "language_info": {
   "codemirror_mode": {
    "name": "ipython",
    "version": 3
   },
   "file_extension": ".py",
   "mimetype": "text/x-python",
   "name": "python",
   "nbconvert_exporter": "python",
   "pygments_lexer": "ipython3",
   "version": "3.10.1"
  }
 },
 "nbformat": 4,
 "nbformat_minor": 5
}
